{
 "cells": [
  {
   "cell_type": "code",
   "execution_count": null,
   "id": "28497aa3",
   "metadata": {},
   "outputs": [],
   "source": [
    "# 1. Write a Python Program to Find the Factorial of a Number?\n",
    "n = int(input(\"Enter a no \"))\n",
    "f = 1\n",
    "for i in range(2, n+1):\n",
    "    f = f*i\n",
    "print(\"Factorial = \",f)"
   ]
  },
  {
   "cell_type": "code",
   "execution_count": null,
   "id": "6b85254b",
   "metadata": {},
   "outputs": [],
   "source": [
    "# 2. Write a Python Program to Display the multiplication Table?\n",
    "n = int(input(\"Enter a multiplication table no \"))\n",
    "for i in range(1, 10):\n",
    "    print(n,\" x \", i, \" = \", n*i)"
   ]
  },
  {
   "cell_type": "code",
   "execution_count": null,
   "id": "85b13c03",
   "metadata": {},
   "outputs": [],
   "source": [
    "# 3. Write a Python Program to Print the Fibonacci sequence?\n",
    "n1 = 0\n",
    "n2 = 1\n",
    "n = int(input(\"Enter no of terms \"))\n",
    "if n == 1:\n",
    "    print(n1)\n",
    "elif n == 2:\n",
    "    print(n1)\n",
    "    print(n2)\n",
    "else:\n",
    "    print(n1)\n",
    "    print(n2)\n",
    "for i in range(3,n+1):\n",
    "    t = n1\n",
    "    n1 = n2\n",
    "    n2 = n1 + t\n",
    "    print(n2)"
   ]
  },
  {
   "cell_type": "code",
   "execution_count": null,
   "id": "e2c81993",
   "metadata": {},
   "outputs": [],
   "source": [
    "# 4. Write a Python Program to Check Armstrong Number?\n",
    "n = int(input(\"Enter a no \"))\n",
    "n1 = n\n",
    "s = 0\n",
    "c = 0\n",
    "while n > 0:\n",
    "    c = c + 1\n",
    "    n = int(n/10)   \n",
    "n = n1\n",
    "while n > 0:\n",
    "    t = n%10\n",
    "    n = int(n/10)   \n",
    "    s = s + t**c\n",
    "if n1 == s:\n",
    "    print(\"Yes , Armstrong no\")\n",
    "else:\n",
    "    print(\"No , Not Armstrong no\")"
   ]
  },
  {
   "cell_type": "code",
   "execution_count": null,
   "id": "31ebc6be",
   "metadata": {},
   "outputs": [],
   "source": [
    "# 5. Write a Python Program to Find Armstrong Number in an Interval?\n",
    "b1 = int(input(\"Enter Lower bound \"))\n",
    "b2 = int(input(\"Enter upper bound \"))\n",
    "for n in range(b1 , b2+1):\n",
    "    n1 = n\n",
    "    s = 0\n",
    "    c = 0\n",
    "    while n1 > 0:\n",
    "        c = c + 1\n",
    "        n1 = int(n1/10)   \n",
    "    n1 = n\n",
    "    while n1 > 0:\n",
    "        t = n1%10\n",
    "        n1 = int(n1/10)   \n",
    "        s = s + t**c\n",
    "    if n == s:\n",
    "        print(n)"
   ]
  },
  {
   "cell_type": "code",
   "execution_count": null,
   "id": "bf190121",
   "metadata": {},
   "outputs": [],
   "source": [
    "# 6. Write a Python Program to Find the Sum of Natural Numbers?\n",
    "n = int(input(\"Enter nth natural number \"))\n",
    "s = n*(n+1)/2\n",
    "print(\"Sum = \" , s)"
   ]
  },
  {
   "cell_type": "code",
   "execution_count": null,
   "id": "753db836",
   "metadata": {},
   "outputs": [],
   "source": []
  }
 ],
 "metadata": {
  "kernelspec": {
   "display_name": "Python 3 (ipykernel)",
   "language": "python",
   "name": "python3"
  },
  "language_info": {
   "codemirror_mode": {
    "name": "ipython",
    "version": 3
   },
   "file_extension": ".py",
   "mimetype": "text/x-python",
   "name": "python",
   "nbconvert_exporter": "python",
   "pygments_lexer": "ipython3",
   "version": "3.9.12"
  }
 },
 "nbformat": 4,
 "nbformat_minor": 5
}
